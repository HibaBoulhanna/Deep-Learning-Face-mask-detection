{
 "cells": [
  {
   "cell_type": "markdown",
   "metadata": {},
   "source": [
    "### Import des librairies"
   ]
  },
  {
   "cell_type": "code",
   "execution_count": null,
   "metadata": {},
   "outputs": [],
   "source": [
    "# basiques\n",
    "import matplotlib.pyplot as plt\n",
    "import numpy as np\n",
    "import argparse\n",
    "import os\n",
    "from imutils import paths\n",
    "\n",
    "# deeplearning\n",
    "from tensorflow.keras.preprocessing.image import ImageDataGenerator, img_to_array, load_img\n",
    "from tensorflow.keras.applications import MobileNetV2\n",
    "from tensorflow.keras.layers import AveragePooling2D, Dropout, Flatten, Dense, Input\n",
    "from tensorflow.keras.models import Model\n",
    "from tensorflow.keras.optimizers import Adam\n",
    "from tensorflow.keras.applications.mobilenet_v2 import preprocess_input\n",
    "from tensorflow.keras.utils import to_categorical\n",
    "from sklearn.preprocessing import LabelBinarizer\n",
    "from sklearn.model_selection import train_test_split\n",
    "from sklearn.metrics import classification_report\n",
    "\n",
    "# lecture\n",
    "%matplotlib inline\n",
    "import warnings\n",
    "warnings.filterwarnings('ignore')"
   ]
  },
  {
   "cell_type": "markdown",
   "metadata": {},
   "source": [
    "### Création du modèle"
   ]
  },
  {
   "cell_type": "code",
   "execution_count": 59,
   "metadata": {},
   "outputs": [],
   "source": [
    "# initialisation des paramètres du réseaux de neurones\n",
    "\n",
    "INIT_LR = 1e-4  # learning rate initial = 0.0001\n",
    "EPOCHS = 20     # nombre d'itérations du modèle \n",
    "BS = 32         # nombre de lot (utile pour la mémoire dans l'entrainement du modèle)"
   ]
  },
  {
   "cell_type": "markdown",
   "metadata": {},
   "source": [
    "#### Travail sur les images"
   ]
  },
  {
   "cell_type": "code",
   "execution_count": 115,
   "metadata": {},
   "outputs": [],
   "source": [
    "# liste des images classées par dossier \"avec masque\" et \"sans masques\"\n",
    "imagePaths = list(paths.list_images(r\"C:\\Users\\Bastien\\OneDrive - Sportdatalab\\Bureau\\Scripts\\projetBFK\\dataset\"))"
   ]
  },
  {
   "cell_type": "code",
   "execution_count": 116,
   "metadata": {},
   "outputs": [],
   "source": [
    "# initialisation des listes pour les datas (images) et les labels (non des sous-dossier)\n",
    "data = []\n",
    "labels = []\n",
    "\n",
    "# boucle pour récupérer les images\n",
    "for imagePath in imagePaths:\n",
    "\t# j'extrais le lael de l'image via son sous-dossier classé\n",
    "\tlabel = imagePath.split(os.path.sep)[-2]\n",
    "\n",
    "\t# chargement de l'image et preprocessing en 224 x 224\n",
    "\timage = load_img(imagePath, target_size=(224, 224))\n",
    "\timage = img_to_array(image)\n",
    "\timage = preprocess_input(image)\n",
    "\n",
    "\t# j'assimile l'array ainsi que son label dans les deux listes\n",
    "\tdata.append(image)\n",
    "\tlabels.append(label)"
   ]
  },
  {
   "cell_type": "code",
   "execution_count": 117,
   "metadata": {},
   "outputs": [],
   "source": [
    "# je convertis mes deux listes en numpy array pour le traitement des données\n",
    "data = np.array(data, dtype=\"float32\")\n",
    "labels = np.array(labels)"
   ]
  },
  {
   "cell_type": "code",
   "execution_count": 118,
   "metadata": {},
   "outputs": [],
   "source": [
    "# j'encode mes labels \"sans masque\" = 0 et \"avec masque\" = 1\n",
    "lb = LabelBinarizer()\n",
    "labels = lb.fit_transform(labels)\n",
    "labels = to_categorical(labels)"
   ]
  },
  {
   "cell_type": "markdown",
   "metadata": {},
   "source": [
    "#### Modélisation du jeu de donnée"
   ]
  },
  {
   "cell_type": "code",
   "execution_count": 119,
   "metadata": {},
   "outputs": [],
   "source": [
    "# split du jeu de donné en 80|20 car j'ai beaucoup d'image à disposition\n",
    "x_train, x_test, y_train, y_test = train_test_split(\n",
    "\tdata,              # image en narray\n",
    "\tlabels,            # labels encodés\n",
    "\ttest_size=0.20,    # test size\n",
    "\tstratify=labels,   # le label est la strate inférieur\n",
    "\trandom_state=42    \n",
    "\t)"
   ]
  },
  {
   "cell_type": "code",
   "execution_count": 66,
   "metadata": {},
   "outputs": [],
   "source": [
    "# construction d'un generateur d'image d'entrainement\n",
    "aug = ImageDataGenerator(\n",
    "\trotation_range=20,\n",
    "\tzoom_range=0.15,\n",
    "\twidth_shift_range=0.2,\n",
    "\theight_shift_range=0.2,\n",
    "\tshear_range=0.15,\n",
    "\thorizontal_flip=True,\n",
    "\tfill_mode=\"nearest\")"
   ]
  },
  {
   "cell_type": "code",
   "execution_count": 67,
   "metadata": {},
   "outputs": [
    {
     "name": "stdout",
     "output_type": "stream",
     "text": [
      "WARNING:tensorflow:`input_shape` is undefined or non-square, or `rows` is not in [96, 128, 160, 192, 224]. Weights for input shape (224, 224) will be loaded as the default.\n"
     ]
    },
    {
     "name": "stderr",
     "output_type": "stream",
     "text": [
      "WARNING:tensorflow:`input_shape` is undefined or non-square, or `rows` is not in [96, 128, 160, 192, 224]. Weights for input shape (224, 224) will be loaded as the default.\n"
     ]
    },
    {
     "name": "stdout",
     "output_type": "stream",
     "text": [
      "Downloading data from https://storage.googleapis.com/tensorflow/keras-applications/mobilenet_v2/mobilenet_v2_weights_tf_dim_ordering_tf_kernels_1.0_224_no_top.h5\n",
      "9412608/9406464 [==============================] - 0s 0us/step\n",
      "9420800/9406464 [==============================] - 0s 0us/step\n"
     ]
    }
   ],
   "source": [
    "# load the MobileNetV2 network, ensuring the head FC layer sets are\n",
    "# left off\n",
    "baseModel = MobileNetV2(weights=\"imagenet\", include_top=False,\n",
    "\tinput_tensor=Input(shape=(224, 224, 3)))"
   ]
  },
  {
   "cell_type": "code",
   "execution_count": 68,
   "metadata": {},
   "outputs": [],
   "source": [
    "# construction de la base du modèle et de ses hyperparamètres\n",
    "headModel = baseModel.output\n",
    "headModel = AveragePooling2D(pool_size=(7, 7))(headModel)\n",
    "headModel = Flatten(name=\"flatten\")(headModel)\n",
    "headModel = Dense(128, activation=\"relu\")(headModel)\n",
    "headModel = Dropout(0.5)(headModel)\n",
    "headModel = Dense(2, activation=\"softmax\")(headModel)"
   ]
  },
  {
   "cell_type": "code",
   "execution_count": 69,
   "metadata": {},
   "outputs": [],
   "source": [
    "# définition du modèle créé sur le modèle de base (cela deviendra notre modèle)\n",
    "model = Model(inputs=baseModel.input, outputs=headModel)"
   ]
  },
  {
   "cell_type": "code",
   "execution_count": 70,
   "metadata": {},
   "outputs": [],
   "source": [
    "# boucle pour figer la première mise à jour du modèle\n",
    "for layer in baseModel.layers:\n",
    "\tlayer.trainable = False"
   ]
  },
  {
   "cell_type": "code",
   "execution_count": 71,
   "metadata": {},
   "outputs": [
    {
     "name": "stdout",
     "output_type": "stream",
     "text": [
      "[INFO] compiling model...\n"
     ]
    },
    {
     "name": "stderr",
     "output_type": "stream",
     "text": [
      "C:\\Users\\Bastien\\anaconda3\\lib\\site-packages\\keras\\optimizer_v2\\adam.py:105: UserWarning: The `lr` argument is deprecated, use `learning_rate` instead.\n",
      "  super(Adam, self).__init__(name, **kwargs)\n"
     ]
    }
   ],
   "source": [
    "# compilation du modèle\n",
    "opt = Adam(lr=INIT_LR, decay=INIT_LR / EPOCHS)\n",
    "model.compile(loss=\"binary_crossentropy\", optimizer=opt, metrics=[\"accuracy\"])"
   ]
  },
  {
   "cell_type": "markdown",
   "metadata": {},
   "source": [
    "#### Entrainement du modèle"
   ]
  },
  {
   "cell_type": "code",
   "execution_count": 72,
   "metadata": {},
   "outputs": [
    {
     "name": "stdout",
     "output_type": "stream",
     "text": [
      "[INFO] training head...\n",
      "Epoch 1/20\n",
      "102/102 [==============================] - 154s 1s/step - loss: 0.3631 - accuracy: 0.8726 - val_loss: 0.1334 - val_accuracy: 0.9805\n",
      "Epoch 2/20\n",
      "102/102 [==============================] - 130s 1s/step - loss: 0.1353 - accuracy: 0.9673 - val_loss: 0.0803 - val_accuracy: 0.9853\n",
      "Epoch 3/20\n",
      "102/102 [==============================] - 130s 1s/step - loss: 0.0984 - accuracy: 0.9722 - val_loss: 0.0635 - val_accuracy: 0.9878\n",
      "Epoch 4/20\n",
      "102/102 [==============================] - 132s 1s/step - loss: 0.0775 - accuracy: 0.9778 - val_loss: 0.0590 - val_accuracy: 0.9866\n",
      "Epoch 5/20\n",
      "102/102 [==============================] - 139s 1s/step - loss: 0.0626 - accuracy: 0.9815 - val_loss: 0.0556 - val_accuracy: 0.9878\n",
      "Epoch 6/20\n",
      "102/102 [==============================] - 124s 1s/step - loss: 0.0597 - accuracy: 0.9824 - val_loss: 0.0504 - val_accuracy: 0.9878\n",
      "Epoch 7/20\n",
      "102/102 [==============================] - 125s 1s/step - loss: 0.0512 - accuracy: 0.9843 - val_loss: 0.0484 - val_accuracy: 0.9878\n",
      "Epoch 8/20\n",
      "102/102 [==============================] - 130s 1s/step - loss: 0.0437 - accuracy: 0.9870 - val_loss: 0.0476 - val_accuracy: 0.9878\n",
      "Epoch 9/20\n",
      "102/102 [==============================] - 132s 1s/step - loss: 0.0558 - accuracy: 0.9824 - val_loss: 0.0422 - val_accuracy: 0.9866\n",
      "Epoch 10/20\n",
      "102/102 [==============================] - 145s 1s/step - loss: 0.0456 - accuracy: 0.9849 - val_loss: 0.0433 - val_accuracy: 0.9878\n",
      "Epoch 11/20\n",
      "102/102 [==============================] - 176s 2s/step - loss: 0.0459 - accuracy: 0.9861 - val_loss: 0.0395 - val_accuracy: 0.9890\n",
      "Epoch 12/20\n",
      "102/102 [==============================] - 147s 1s/step - loss: 0.0384 - accuracy: 0.9892 - val_loss: 0.0390 - val_accuracy: 0.9890\n",
      "Epoch 13/20\n",
      "102/102 [==============================] - 155s 2s/step - loss: 0.0423 - accuracy: 0.9855 - val_loss: 0.0385 - val_accuracy: 0.9890\n",
      "Epoch 14/20\n",
      "102/102 [==============================] - 155s 2s/step - loss: 0.0375 - accuracy: 0.9877 - val_loss: 0.0385 - val_accuracy: 0.9890\n",
      "Epoch 15/20\n",
      "102/102 [==============================] - 130s 1s/step - loss: 0.0334 - accuracy: 0.9895 - val_loss: 0.0398 - val_accuracy: 0.9890\n",
      "Epoch 16/20\n",
      "102/102 [==============================] - 152s 1s/step - loss: 0.0319 - accuracy: 0.9895 - val_loss: 0.0358 - val_accuracy: 0.9866\n",
      "Epoch 17/20\n",
      "102/102 [==============================] - 148s 1s/step - loss: 0.0322 - accuracy: 0.9907 - val_loss: 0.0345 - val_accuracy: 0.9902\n",
      "Epoch 18/20\n",
      "102/102 [==============================] - 133s 1s/step - loss: 0.0269 - accuracy: 0.9923 - val_loss: 0.0358 - val_accuracy: 0.9915\n",
      "Epoch 19/20\n",
      "102/102 [==============================] - 257s 3s/step - loss: 0.0250 - accuracy: 0.9917 - val_loss: 0.0361 - val_accuracy: 0.9915\n",
      "Epoch 20/20\n",
      "102/102 [==============================] - 147s 1s/step - loss: 0.0311 - accuracy: 0.9907 - val_loss: 0.0329 - val_accuracy: 0.9902\n"
     ]
    }
   ],
   "source": [
    "# entrainement du modèle\n",
    "print(\"[INFO] training head...\")\n",
    "H = model.fit(\n",
    "\taug.flow(x_train, y_train, batch_size=BS),\n",
    "\tsteps_per_epoch=len(x_train) // BS,\n",
    "\tvalidation_data=(x_test, y_test),\n",
    "\tvalidation_steps=len(x_test) // BS,\n",
    "\tepochs=EPOCHS)"
   ]
  },
  {
   "cell_type": "code",
   "execution_count": 120,
   "metadata": {},
   "outputs": [],
   "source": [
    "# prédiction sur le jeu de donnée test\n",
    "y_pred = model.predict(x_test, batch_size=BS)\n",
    "# pour chaque prédiction, nous devons prendre le label corespondant\n",
    "y_pred = np.argmax(y_pred, axis=1)"
   ]
  },
  {
   "cell_type": "markdown",
   "metadata": {},
   "source": [
    "#### Evaluation du modèle"
   ]
  },
  {
   "cell_type": "code",
   "execution_count": 121,
   "metadata": {},
   "outputs": [
    {
     "name": "stdout",
     "output_type": "stream",
     "text": [
      "[INFO] evaluating network\n",
      "              precision    recall  f1-score   support\n",
      "\n",
      "   with_mask       0.99      0.99      0.99       433\n",
      "without_mask       0.99      0.99      0.99       386\n",
      "\n",
      "    accuracy                           0.99       819\n",
      "   macro avg       0.99      0.99      0.99       819\n",
      "weighted avg       0.99      0.99      0.99       819\n",
      "\n"
     ]
    }
   ],
   "source": [
    "# evaluation du modele\n",
    "print(classification_report(y_test.argmax(axis=1), y_pred,\n",
    "\ttarget_names=lb.classes_))"
   ]
  },
  {
   "cell_type": "code",
   "execution_count": 110,
   "metadata": {},
   "outputs": [
    {
     "data": {
      "text/plain": [
       "<matplotlib.legend.Legend at 0x1882a486fd0>"
      ]
     },
     "execution_count": 110,
     "metadata": {},
     "output_type": "execute_result"
    },
    {
     "data": {
      "image/png": "[encoded data removed]",
      "text/plain": [
       "<Figure size 432x288 with 1 Axes>"
      ]
     },
     "metadata": {},
     "output_type": "display_data"
    }
   ],
   "source": [
    "# graphique de la perte et de la précision sur les itérations du modèle\n",
    "N = EPOCHS\n",
    "plt.style.use(\"ggplot\")\n",
    "plt.figure()\n",
    "plt.plot(np.arange(0, N), H.history[\"loss\"], label=\"train_loss\")\n",
    "plt.plot(np.arange(0, N), H.history[\"val_loss\"], label=\"val_loss\")\n",
    "plt.plot(np.arange(0, N), H.history[\"accuracy\"], label=\"train_acc\")\n",
    "plt.plot(np.arange(0, N), H.history[\"val_accuracy\"], label=\"val_acc\")\n",
    "plt.title(\"Training Loss | Accuracy\")\n",
    "plt.xlabel(\"EPOCH\")\n",
    "plt.ylabel(\"Loss | Accuracy\")\n",
    "plt.legend(loc=\"center right\")"
   ]
  },
  {
   "cell_type": "code",
   "execution_count": 109,
   "metadata": {},
   "outputs": [
    {
     "data": {
      "text/plain": [
       "<matplotlib.legend.Legend at 0x1882a40d9d0>"
      ]
     },
     "execution_count": 109,
     "metadata": {},
     "output_type": "execute_result"
    },
    {
     "data": {
      "image/png": "[encoded data removed]",
      "text/plain": [
       "<Figure size 432x288 with 1 Axes>"
      ]
     },
     "metadata": {},
     "output_type": "display_data"
    }
   ],
   "source": [
    "# graphique de la perte\n",
    "N = EPOCHS\n",
    "plt.style.use(\"ggplot\")\n",
    "plt.figure()\n",
    "plt.plot(np.arange(0, N), H.history[\"loss\"], label=\"train_loss\")\n",
    "plt.plot(np.arange(0, N), H.history[\"val_loss\"], label=\"val_loss\")\n",
    "plt.title(\"Training Loss\")\n",
    "plt.xlabel(\"EPOCH\")\n",
    "plt.ylabel(\"Loss\")\n",
    "plt.legend(loc=\"center right\")"
   ]
  },
  {
   "cell_type": "code",
   "execution_count": 104,
   "metadata": {},
   "outputs": [
    {
     "data": {
      "text/plain": [
       "<matplotlib.legend.Legend at 0x18829c38f10>"
      ]
     },
     "execution_count": 104,
     "metadata": {},
     "output_type": "execute_result"
    },
    {
     "data": {
      "image/png": "[encoded data removed]",
      "text/plain": [
       "<Figure size 432x288 with 1 Axes>"
      ]
     },
     "metadata": {},
     "output_type": "display_data"
    }
   ],
   "source": [
    "# graphique de la précision\n",
    "N = EPOCHS\n",
    "plt.style.use(\"ggplot\")\n",
    "plt.figure()\n",
    "plt.plot(np.arange(0, N), H.history[\"accuracy\"], label=\"train_acc\")\n",
    "plt.plot(np.arange(0, N), H.history[\"val_accuracy\"], label=\"val_acc\")\n",
    "plt.title(\"Training Accuracy\")\n",
    "plt.xlabel(\"EPOCH\")\n",
    "plt.ylabel(\"Accuracy\")\n",
    "plt.legend(loc=\"lower right\")"
   ]
  },
  {
   "cell_type": "markdown",
   "metadata": {},
   "source": [
    "### Prediction sur d'autres images personnelles"
   ]
  },
  {
   "cell_type": "markdown",
   "metadata": {},
   "source": [
    "#### Structuration des images personnelles"
   ]
  },
  {
   "cell_type": "code",
   "execution_count": 92,
   "metadata": {},
   "outputs": [],
   "source": [
    "# je charge 3 images perso (1 masquée + 2 non masquées)\n",
    "perso = list(paths.list_images(r\"C:\\Users\\Bastien\\OneDrive - Sportdatalab\\Bureau\\Scripts\\projetBFK\\image_perso\"))"
   ]
  },
  {
   "cell_type": "code",
   "execution_count": 93,
   "metadata": {},
   "outputs": [],
   "source": [
    "data = []\n",
    "labels = []\n",
    "\n",
    "# boucle identique à precedemment\n",
    "for imagePath in perso:\n",
    "\tlabel = imagePath.split(os.path.sep)[-2]\n",
    "\n",
    "\timage = load_img(imagePath, target_size=(224, 224))\n",
    "\timage = img_to_array(image)\n",
    "\timage = preprocess_input(image)\n",
    "\n",
    "\tdata.append(image)\n",
    "\tlabels.append(label)"
   ]
  },
  {
   "cell_type": "code",
   "execution_count": 94,
   "metadata": {},
   "outputs": [],
   "source": [
    "# je convertis en array\n",
    "data = np.array(data, dtype=\"float32\")\n",
    "labels = np.array(labels)"
   ]
  },
  {
   "cell_type": "code",
   "execution_count": 95,
   "metadata": {},
   "outputs": [],
   "source": [
    "# j'encode les labels des 3 photos\n",
    "lb = LabelBinarizer()\n",
    "labels = lb.fit_transform(labels)\n",
    "labels = to_categorical(labels)"
   ]
  },
  {
   "cell_type": "markdown",
   "metadata": {},
   "source": [
    "#### Prédictions"
   ]
  },
  {
   "cell_type": "code",
   "execution_count": 96,
   "metadata": {},
   "outputs": [],
   "source": [
    "# predictions des images personnelles\n",
    "predIdxs = model.predict(data, batch_size=BS)\n",
    "\n",
    "# passage en array\n",
    "predIdxs = np.argmax(predIdxs, axis=1)"
   ]
  },
  {
   "cell_type": "code",
   "execution_count": 97,
   "metadata": {},
   "outputs": [
    {
     "data": {
      "text/plain": [
       "array([1, 0, 0], dtype=int64)"
      ]
     },
     "execution_count": 97,
     "metadata": {},
     "output_type": "execute_result"
    }
   ],
   "source": [
    "# verification des predictions = ok\n",
    "predIdxs"
   ]
  },
  {
   "cell_type": "markdown",
   "metadata": {},
   "source": [
    "### Sauvegarde du reseaux de neurone"
   ]
  },
  {
   "cell_type": "code",
   "execution_count": 123,
   "metadata": {},
   "outputs": [
    {
     "name": "stdout",
     "output_type": "stream",
     "text": [
      "[INFO] saving mask detector model...\n"
     ]
    }
   ],
   "source": [
    "# sauvegarde du modèle\n",
    "model.save(\"mask_detector.model\", save_format=\"h5\")"
   ]
  }
 ],
 "metadata": {
  "interpreter": {
   "hash": "f4ee4bd3b9ef55712942e358269a46b5a81b5ecf1f44ce84f7904381c05bf1cc"
  },
  "kernelspec": {
   "display_name": "Python 3 (ipykernel)",
   "language": "python",
   "name": "python3"
  },
  "language_info": {
   "codemirror_mode": {
    "name": "ipython",
    "version": 3
   },
   "file_extension": ".py",
   "mimetype": "text/x-python",
   "name": "python",
   "nbconvert_exporter": "python",
   "pygments_lexer": "ipython3",
   "version": "3.9.7"
  }
 },
 "nbformat": 4,
 "nbformat_minor": 4
}
